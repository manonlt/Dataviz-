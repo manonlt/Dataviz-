{
  "nbformat": 4,
  "nbformat_minor": 0,
  "metadata": {
    "colab": {
      "name": "Stacked barchart with Pandas, Matplotlib & Plotly.ipynb",
      "provenance": [],
      "collapsed_sections": [],
      "authorship_tag": "ABX9TyOW5OiMU0yW7MDkr9ZoedaP",
      "include_colab_link": true
    },
    "kernelspec": {
      "name": "python3",
      "display_name": "Python 3"
    }
  },
  "cells": [
    {
      "cell_type": "markdown",
      "metadata": {
        "id": "view-in-github",
        "colab_type": "text"
      },
      "source": [
        "<a href=\"https://colab.research.google.com/github/manonlt/Deforestation-/blob/main/Stacked_barchart_with_Pandas%2C_Matplotlib_%26_Plotly.ipynb\" target=\"_parent\"><img src=\"https://colab.research.google.com/assets/colab-badge.svg\" alt=\"Open In Colab\"/></a>"
      ]
    },
    {
      "cell_type": "code",
      "metadata": {
        "id": "NpxE3FylGhkr"
      },
      "source": [
        "import pandas as pd\n",
        "import numpy as np\n",
        "import matplotlib.pyplot as plt\n",
        "import plotly.express as px"
      ],
      "execution_count": 3,
      "outputs": []
    },
    {
      "cell_type": "markdown",
      "metadata": {
        "id": "4mJuCDH9Sfzq"
      },
      "source": [
        "## Retraitement base"
      ]
    },
    {
      "cell_type": "markdown",
      "metadata": {
        "id": "wpmGpstMYpKP"
      },
      "source": [
        "Le dataframe est issu du site Global Forest Watch. Il présente la perte annuelle de la couverture forestière mondiale, causée par un facteur dominant. \n",
        "\n",
        "\n",
        "\n",
        "\n",
        "\n",
        "\n",
        "\n"
      ]
    },
    {
      "cell_type": "code",
      "metadata": {
        "id": "DE0pUnmVtOjx",
        "outputId": "a2a17263-7c60-422a-bdd0-c53909dedc6d",
        "colab": {
          "base_uri": "https://localhost:8080/",
          "height": 402
        }
      },
      "source": [
        "df = pd.read_csv('/content/treecover_loss__ha.csv')\n",
        "df = df[['umd_tree_cover_loss__year', 'umd_tree_cover_loss__ha', 'tsc_tree_cover_loss_drivers__type']]\n",
        "df"
      ],
      "execution_count": 39,
      "outputs": [
        {
          "output_type": "execute_result",
          "data": {
            "text/html": [
              "<div>\n",
              "<style scoped>\n",
              "    .dataframe tbody tr th:only-of-type {\n",
              "        vertical-align: middle;\n",
              "    }\n",
              "\n",
              "    .dataframe tbody tr th {\n",
              "        vertical-align: top;\n",
              "    }\n",
              "\n",
              "    .dataframe thead th {\n",
              "        text-align: right;\n",
              "    }\n",
              "</style>\n",
              "<table border=\"1\" class=\"dataframe\">\n",
              "  <thead>\n",
              "    <tr style=\"text-align: right;\">\n",
              "      <th></th>\n",
              "      <th>umd_tree_cover_loss__year</th>\n",
              "      <th>umd_tree_cover_loss__ha</th>\n",
              "      <th>tsc_tree_cover_loss_drivers__type</th>\n",
              "    </tr>\n",
              "  </thead>\n",
              "  <tbody>\n",
              "    <tr>\n",
              "      <th>0</th>\n",
              "      <td>2017</td>\n",
              "      <td>7.962372e+06</td>\n",
              "      <td>Shifting agriculture</td>\n",
              "    </tr>\n",
              "    <tr>\n",
              "      <th>1</th>\n",
              "      <td>2012</td>\n",
              "      <td>3.891974e+06</td>\n",
              "      <td>Shifting agriculture</td>\n",
              "    </tr>\n",
              "    <tr>\n",
              "      <th>2</th>\n",
              "      <td>2014</td>\n",
              "      <td>5.881218e+06</td>\n",
              "      <td>Shifting agriculture</td>\n",
              "    </tr>\n",
              "    <tr>\n",
              "      <th>3</th>\n",
              "      <td>2016</td>\n",
              "      <td>7.439296e+06</td>\n",
              "      <td>Shifting agriculture</td>\n",
              "    </tr>\n",
              "    <tr>\n",
              "      <th>4</th>\n",
              "      <td>2009</td>\n",
              "      <td>3.697391e+06</td>\n",
              "      <td>Shifting agriculture</td>\n",
              "    </tr>\n",
              "    <tr>\n",
              "      <th>...</th>\n",
              "      <td>...</td>\n",
              "      <td>...</td>\n",
              "      <td>...</td>\n",
              "    </tr>\n",
              "    <tr>\n",
              "      <th>109</th>\n",
              "      <td>2013</td>\n",
              "      <td>1.341745e+05</td>\n",
              "      <td>Urbanization</td>\n",
              "    </tr>\n",
              "    <tr>\n",
              "      <th>110</th>\n",
              "      <td>2018</td>\n",
              "      <td>1.921324e+05</td>\n",
              "      <td>Urbanization</td>\n",
              "    </tr>\n",
              "    <tr>\n",
              "      <th>111</th>\n",
              "      <td>2003</td>\n",
              "      <td>1.534496e+05</td>\n",
              "      <td>Urbanization</td>\n",
              "    </tr>\n",
              "    <tr>\n",
              "      <th>112</th>\n",
              "      <td>2019</td>\n",
              "      <td>1.734462e+05</td>\n",
              "      <td>Urbanization</td>\n",
              "    </tr>\n",
              "    <tr>\n",
              "      <th>113</th>\n",
              "      <td>2015</td>\n",
              "      <td>1.527662e+05</td>\n",
              "      <td>Urbanization</td>\n",
              "    </tr>\n",
              "  </tbody>\n",
              "</table>\n",
              "<p>114 rows × 3 columns</p>\n",
              "</div>"
            ],
            "text/plain": [
              "     umd_tree_cover_loss__year  ...  tsc_tree_cover_loss_drivers__type\n",
              "0                         2017  ...               Shifting agriculture\n",
              "1                         2012  ...               Shifting agriculture\n",
              "2                         2014  ...               Shifting agriculture\n",
              "3                         2016  ...               Shifting agriculture\n",
              "4                         2009  ...               Shifting agriculture\n",
              "..                         ...  ...                                ...\n",
              "109                       2013  ...                       Urbanization\n",
              "110                       2018  ...                       Urbanization\n",
              "111                       2003  ...                       Urbanization\n",
              "112                       2019  ...                       Urbanization\n",
              "113                       2015  ...                       Urbanization\n",
              "\n",
              "[114 rows x 3 columns]"
            ]
          },
          "metadata": {
            "tags": []
          },
          "execution_count": 39
        }
      ]
    },
    {
      "cell_type": "code",
      "metadata": {
        "id": "9C4Iklc2L1bx",
        "outputId": "cc79d137-a2c3-4302-c43b-2ce692d0f4d8",
        "colab": {
          "base_uri": "https://localhost:8080/",
          "height": 402
        }
      },
      "source": [
        "df.rename(columns={'umd_tree_cover_loss__year' : 'Année', 'umd_tree_cover_loss__ha': 'Surface forestière perdue (Mha)', 'tsc_tree_cover_loss_drivers__type': 'Causes'}, inplace = True)\n",
        "df['Causes'].replace(['Urbanization', 'Forestry', 'Unknown', 'Commodity driven deforestation', 'Shifting agriculture', 'Wildfire'], ['Urbanisation', 'Sylviculture', 'Inconnu', 'Culture des produits de base', 'Agriculture itinérante', 'Feu de forêt'], inplace=True)\n",
        "df['Surface forestière perdue (Mha)'] = round(df['Surface forestière perdue (Mha)'] / 1000000, 2)   #Pour plus de lisibilité, je transforme les hectares en millions d'hectares\n",
        "df"
      ],
      "execution_count": 41,
      "outputs": [
        {
          "output_type": "execute_result",
          "data": {
            "text/html": [
              "<div>\n",
              "<style scoped>\n",
              "    .dataframe tbody tr th:only-of-type {\n",
              "        vertical-align: middle;\n",
              "    }\n",
              "\n",
              "    .dataframe tbody tr th {\n",
              "        vertical-align: top;\n",
              "    }\n",
              "\n",
              "    .dataframe thead th {\n",
              "        text-align: right;\n",
              "    }\n",
              "</style>\n",
              "<table border=\"1\" class=\"dataframe\">\n",
              "  <thead>\n",
              "    <tr style=\"text-align: right;\">\n",
              "      <th></th>\n",
              "      <th>Année</th>\n",
              "      <th>Surface forestière perdue (Mha)</th>\n",
              "      <th>Causes</th>\n",
              "    </tr>\n",
              "  </thead>\n",
              "  <tbody>\n",
              "    <tr>\n",
              "      <th>0</th>\n",
              "      <td>2017</td>\n",
              "      <td>7.96</td>\n",
              "      <td>Agriculture itinérante</td>\n",
              "    </tr>\n",
              "    <tr>\n",
              "      <th>1</th>\n",
              "      <td>2012</td>\n",
              "      <td>3.89</td>\n",
              "      <td>Agriculture itinérante</td>\n",
              "    </tr>\n",
              "    <tr>\n",
              "      <th>2</th>\n",
              "      <td>2014</td>\n",
              "      <td>5.88</td>\n",
              "      <td>Agriculture itinérante</td>\n",
              "    </tr>\n",
              "    <tr>\n",
              "      <th>3</th>\n",
              "      <td>2016</td>\n",
              "      <td>7.44</td>\n",
              "      <td>Agriculture itinérante</td>\n",
              "    </tr>\n",
              "    <tr>\n",
              "      <th>4</th>\n",
              "      <td>2009</td>\n",
              "      <td>3.70</td>\n",
              "      <td>Agriculture itinérante</td>\n",
              "    </tr>\n",
              "    <tr>\n",
              "      <th>...</th>\n",
              "      <td>...</td>\n",
              "      <td>...</td>\n",
              "      <td>...</td>\n",
              "    </tr>\n",
              "    <tr>\n",
              "      <th>109</th>\n",
              "      <td>2013</td>\n",
              "      <td>0.13</td>\n",
              "      <td>Urbanisation</td>\n",
              "    </tr>\n",
              "    <tr>\n",
              "      <th>110</th>\n",
              "      <td>2018</td>\n",
              "      <td>0.19</td>\n",
              "      <td>Urbanisation</td>\n",
              "    </tr>\n",
              "    <tr>\n",
              "      <th>111</th>\n",
              "      <td>2003</td>\n",
              "      <td>0.15</td>\n",
              "      <td>Urbanisation</td>\n",
              "    </tr>\n",
              "    <tr>\n",
              "      <th>112</th>\n",
              "      <td>2019</td>\n",
              "      <td>0.17</td>\n",
              "      <td>Urbanisation</td>\n",
              "    </tr>\n",
              "    <tr>\n",
              "      <th>113</th>\n",
              "      <td>2015</td>\n",
              "      <td>0.15</td>\n",
              "      <td>Urbanisation</td>\n",
              "    </tr>\n",
              "  </tbody>\n",
              "</table>\n",
              "<p>114 rows × 3 columns</p>\n",
              "</div>"
            ],
            "text/plain": [
              "     Année  Surface forestière perdue (Mha)                  Causes\n",
              "0     2017                             7.96  Agriculture itinérante\n",
              "1     2012                             3.89  Agriculture itinérante\n",
              "2     2014                             5.88  Agriculture itinérante\n",
              "3     2016                             7.44  Agriculture itinérante\n",
              "4     2009                             3.70  Agriculture itinérante\n",
              "..     ...                              ...                     ...\n",
              "109   2013                             0.13            Urbanisation\n",
              "110   2018                             0.19            Urbanisation\n",
              "111   2003                             0.15            Urbanisation\n",
              "112   2019                             0.17            Urbanisation\n",
              "113   2015                             0.15            Urbanisation\n",
              "\n",
              "[114 rows x 3 columns]"
            ]
          },
          "metadata": {
            "tags": []
          },
          "execution_count": 41
        }
      ]
    },
    {
      "cell_type": "code",
      "metadata": {
        "id": "TsiKzmbXPsxj",
        "outputId": "e2715493-aced-4fcb-a1bf-d66f74c7257d",
        "colab": {
          "base_uri": "https://localhost:8080/",
          "height": 639
        }
      },
      "source": [
        "#Total de la surface perdue par année et par cause\n",
        "df_pivot = df.pivot_table(index = 'Année', columns= 'Causes', values='Surface forestière perdue (Mha)', aggfunc='sum') \n",
        "df_pivot"
      ],
      "execution_count": 43,
      "outputs": [
        {
          "output_type": "execute_result",
          "data": {
            "text/html": [
              "<div>\n",
              "<style scoped>\n",
              "    .dataframe tbody tr th:only-of-type {\n",
              "        vertical-align: middle;\n",
              "    }\n",
              "\n",
              "    .dataframe tbody tr th {\n",
              "        vertical-align: top;\n",
              "    }\n",
              "\n",
              "    .dataframe thead th {\n",
              "        text-align: right;\n",
              "    }\n",
              "</style>\n",
              "<table border=\"1\" class=\"dataframe\">\n",
              "  <thead>\n",
              "    <tr style=\"text-align: right;\">\n",
              "      <th>Causes</th>\n",
              "      <th>Agriculture itinérante</th>\n",
              "      <th>Culture des produits de base</th>\n",
              "      <th>Feu de forêt</th>\n",
              "      <th>Inconnu</th>\n",
              "      <th>Sylviculture</th>\n",
              "      <th>Urbanisation</th>\n",
              "    </tr>\n",
              "    <tr>\n",
              "      <th>Année</th>\n",
              "      <th></th>\n",
              "      <th></th>\n",
              "      <th></th>\n",
              "      <th></th>\n",
              "      <th></th>\n",
              "      <th></th>\n",
              "    </tr>\n",
              "  </thead>\n",
              "  <tbody>\n",
              "    <tr>\n",
              "      <th>2001</th>\n",
              "      <td>2.78</td>\n",
              "      <td>3.40</td>\n",
              "      <td>2.15</td>\n",
              "      <td>0.19</td>\n",
              "      <td>4.63</td>\n",
              "      <td>0.19</td>\n",
              "    </tr>\n",
              "    <tr>\n",
              "      <th>2002</th>\n",
              "      <td>2.91</td>\n",
              "      <td>4.30</td>\n",
              "      <td>4.14</td>\n",
              "      <td>0.16</td>\n",
              "      <td>4.78</td>\n",
              "      <td>0.17</td>\n",
              "    </tr>\n",
              "    <tr>\n",
              "      <th>2003</th>\n",
              "      <td>2.21</td>\n",
              "      <td>3.95</td>\n",
              "      <td>3.83</td>\n",
              "      <td>0.11</td>\n",
              "      <td>4.23</td>\n",
              "      <td>0.15</td>\n",
              "    </tr>\n",
              "    <tr>\n",
              "      <th>2004</th>\n",
              "      <td>2.55</td>\n",
              "      <td>5.61</td>\n",
              "      <td>5.04</td>\n",
              "      <td>0.18</td>\n",
              "      <td>6.30</td>\n",
              "      <td>0.22</td>\n",
              "    </tr>\n",
              "    <tr>\n",
              "      <th>2005</th>\n",
              "      <td>3.08</td>\n",
              "      <td>5.13</td>\n",
              "      <td>3.51</td>\n",
              "      <td>0.15</td>\n",
              "      <td>6.01</td>\n",
              "      <td>0.22</td>\n",
              "    </tr>\n",
              "    <tr>\n",
              "      <th>2006</th>\n",
              "      <td>2.93</td>\n",
              "      <td>4.58</td>\n",
              "      <td>3.79</td>\n",
              "      <td>0.16</td>\n",
              "      <td>5.96</td>\n",
              "      <td>0.23</td>\n",
              "    </tr>\n",
              "    <tr>\n",
              "      <th>2007</th>\n",
              "      <td>3.37</td>\n",
              "      <td>4.91</td>\n",
              "      <td>3.46</td>\n",
              "      <td>0.17</td>\n",
              "      <td>6.27</td>\n",
              "      <td>0.22</td>\n",
              "    </tr>\n",
              "    <tr>\n",
              "      <th>2008</th>\n",
              "      <td>3.31</td>\n",
              "      <td>4.86</td>\n",
              "      <td>3.88</td>\n",
              "      <td>0.17</td>\n",
              "      <td>6.20</td>\n",
              "      <td>0.19</td>\n",
              "    </tr>\n",
              "    <tr>\n",
              "      <th>2009</th>\n",
              "      <td>3.70</td>\n",
              "      <td>5.02</td>\n",
              "      <td>2.50</td>\n",
              "      <td>0.18</td>\n",
              "      <td>5.45</td>\n",
              "      <td>0.14</td>\n",
              "    </tr>\n",
              "    <tr>\n",
              "      <th>2010</th>\n",
              "      <td>3.98</td>\n",
              "      <td>5.19</td>\n",
              "      <td>3.13</td>\n",
              "      <td>0.19</td>\n",
              "      <td>5.90</td>\n",
              "      <td>0.17</td>\n",
              "    </tr>\n",
              "    <tr>\n",
              "      <th>2011</th>\n",
              "      <td>3.09</td>\n",
              "      <td>4.91</td>\n",
              "      <td>3.42</td>\n",
              "      <td>0.17</td>\n",
              "      <td>5.84</td>\n",
              "      <td>0.15</td>\n",
              "    </tr>\n",
              "    <tr>\n",
              "      <th>2012</th>\n",
              "      <td>3.89</td>\n",
              "      <td>6.45</td>\n",
              "      <td>6.09</td>\n",
              "      <td>0.27</td>\n",
              "      <td>6.66</td>\n",
              "      <td>0.17</td>\n",
              "    </tr>\n",
              "    <tr>\n",
              "      <th>2013</th>\n",
              "      <td>4.49</td>\n",
              "      <td>4.05</td>\n",
              "      <td>6.55</td>\n",
              "      <td>0.18</td>\n",
              "      <td>5.24</td>\n",
              "      <td>0.13</td>\n",
              "    </tr>\n",
              "    <tr>\n",
              "      <th>2014</th>\n",
              "      <td>5.88</td>\n",
              "      <td>5.67</td>\n",
              "      <td>5.75</td>\n",
              "      <td>0.17</td>\n",
              "      <td>6.10</td>\n",
              "      <td>0.16</td>\n",
              "    </tr>\n",
              "    <tr>\n",
              "      <th>2015</th>\n",
              "      <td>4.51</td>\n",
              "      <td>4.89</td>\n",
              "      <td>4.40</td>\n",
              "      <td>0.09</td>\n",
              "      <td>5.58</td>\n",
              "      <td>0.15</td>\n",
              "    </tr>\n",
              "    <tr>\n",
              "      <th>2016</th>\n",
              "      <td>7.44</td>\n",
              "      <td>8.45</td>\n",
              "      <td>5.69</td>\n",
              "      <td>0.15</td>\n",
              "      <td>7.74</td>\n",
              "      <td>0.20</td>\n",
              "    </tr>\n",
              "    <tr>\n",
              "      <th>2017</th>\n",
              "      <td>7.96</td>\n",
              "      <td>6.72</td>\n",
              "      <td>6.38</td>\n",
              "      <td>0.16</td>\n",
              "      <td>7.91</td>\n",
              "      <td>0.24</td>\n",
              "    </tr>\n",
              "    <tr>\n",
              "      <th>2018</th>\n",
              "      <td>6.23</td>\n",
              "      <td>4.99</td>\n",
              "      <td>6.36</td>\n",
              "      <td>0.13</td>\n",
              "      <td>6.85</td>\n",
              "      <td>0.19</td>\n",
              "    </tr>\n",
              "    <tr>\n",
              "      <th>2019</th>\n",
              "      <td>5.74</td>\n",
              "      <td>5.41</td>\n",
              "      <td>5.56</td>\n",
              "      <td>0.15</td>\n",
              "      <td>7.14</td>\n",
              "      <td>0.17</td>\n",
              "    </tr>\n",
              "  </tbody>\n",
              "</table>\n",
              "</div>"
            ],
            "text/plain": [
              "Causes  Agriculture itinérante  ...  Urbanisation\n",
              "Année                           ...              \n",
              "2001                      2.78  ...          0.19\n",
              "2002                      2.91  ...          0.17\n",
              "2003                      2.21  ...          0.15\n",
              "2004                      2.55  ...          0.22\n",
              "2005                      3.08  ...          0.22\n",
              "2006                      2.93  ...          0.23\n",
              "2007                      3.37  ...          0.22\n",
              "2008                      3.31  ...          0.19\n",
              "2009                      3.70  ...          0.14\n",
              "2010                      3.98  ...          0.17\n",
              "2011                      3.09  ...          0.15\n",
              "2012                      3.89  ...          0.17\n",
              "2013                      4.49  ...          0.13\n",
              "2014                      5.88  ...          0.16\n",
              "2015                      4.51  ...          0.15\n",
              "2016                      7.44  ...          0.20\n",
              "2017                      7.96  ...          0.24\n",
              "2018                      6.23  ...          0.19\n",
              "2019                      5.74  ...          0.17\n",
              "\n",
              "[19 rows x 6 columns]"
            ]
          },
          "metadata": {
            "tags": []
          },
          "execution_count": 43
        }
      ]
    },
    {
      "cell_type": "markdown",
      "metadata": {
        "id": "SSSypYj_F9__"
      },
      "source": [
        "##Visualisation #1 : Pandas"
      ]
    },
    {
      "cell_type": "code",
      "metadata": {
        "id": "6DvfKZSsiREr"
      },
      "source": [
        "colours = {\"Feu de forêt\": \"indianred\", \"Agriculture itinérante\": \"red\", 'Sylviculture' : 'coral', 'Urbanisation': 'black', 'Culture des produits de base': 'tan', 'Inconnu': 'orange'}"
      ],
      "execution_count": 44,
      "outputs": []
    },
    {
      "cell_type": "code",
      "metadata": {
        "id": "2is_o0CXfFGk",
        "outputId": "dacd573e-bd01-4bc6-dc37-124b7ea0acc7",
        "colab": {
          "base_uri": "https://localhost:8080/",
          "height": 513
        }
      },
      "source": [
        "df_pivot.plot(kind=\"bar\", stacked=True, color=colours, figsize=(10,7))\n",
        "plt.title('Causes de déforestation par année dans le monde')\n",
        "plt.xlabel('Année')\n",
        "plt.ylabel('Perte de surface forestière (Mha)')\n",
        "plt.tight_layout()\n",
        "plt.show()"
      ],
      "execution_count": 45,
      "outputs": [
        {
          "output_type": "display_data",
          "data": {
            "image/png": "[encoded data removed]",
            "text/plain": [
              "<Figure size 720x504 with 1 Axes>"
            ]
          },
          "metadata": {
            "tags": [],
            "needs_background": "light"
          }
        }
      ]
    },
    {
      "cell_type": "markdown",
      "metadata": {
        "id": "yga5GGZ9VB5k"
      },
      "source": [
        "#Visualisation #2 : Matplotlib"
      ]
    },
    {
      "cell_type": "code",
      "metadata": {
        "id": "ah6DwMyYk4n0"
      },
      "source": [
        "#Création de mes x DataFrame intermédiaires en fonction de la cause de déforestation\n",
        "\n",
        "N = df['Année'].unique()\n",
        "agit = df.loc[df['Causes'] == 'Agriculture itinérante'].sort_values(by='Année')['Surface forestière perdue (Mha)'].reset_index(drop=True)\n",
        "cult = df.loc[df['Causes'] == 'Culture des produits de base'].sort_values(by='Année')['Surface forestière perdue (Mha)'].reset_index(drop=True)\n",
        "feu = df.loc[df['Causes'] == 'Feu de forêt'].sort_values(by='Année')['Surface forestière perdue (Mha)'].reset_index(drop=True)\n",
        "inc = df.loc[df['Causes'] == 'Inconnu'].sort_values(by='Année')['Surface forestière perdue (Mha)'].reset_index(drop=True)\n",
        "syl = df.loc[df['Causes'] == 'Sylviculture'].sort_values(by='Année')['Surface forestière perdue (Mha)'].reset_index(drop=True)\n",
        "urb = df.loc[df['Causes'] == 'Urbanisation'].sort_values(by='Année')['Surface forestière perdue (Mha)'].reset_index(drop=True)\n"
      ],
      "execution_count": 46,
      "outputs": []
    },
    {
      "cell_type": "code",
      "metadata": {
        "id": "CLhWzxHNV0Kl",
        "outputId": "43fdde73-63e9-4092-d9cd-6c955064f929",
        "colab": {
          "base_uri": "https://localhost:8080/",
          "height": 621
        }
      },
      "source": [
        "#Matplotlib\n",
        "\n",
        "col = ('red', 'tan', 'indianred', 'orange', 'coral', 'black')\n",
        "data = (agit, cult, feu, inc, syl, urb)\n",
        "  \n",
        "width = 0.5\n",
        "ind = np.arange(2001,2020,1)\n",
        "bottom = 0\n",
        "\n",
        "plt.figure(figsize=(13,10)) \n",
        "\n",
        "for i, j in zip(data, col):\n",
        "  plt.bar(ind, i, width, bottom=bottom, color=j)\n",
        "  bottom += i\n",
        "\n",
        "plt.ylabel('Perte de surface forestière (million d\\'ha)')\n",
        "plt.title('Causes de déforestation par année dans le monde')\n",
        "plt.xticks(ind)\n",
        "plt.xlabel('Année')\n",
        "plt.legend(('Agriculture itinérante', 'Culture des produits de base', 'Feu de forêt', 'Inconnu', 'Sylviculture', 'Urbanisation'))\n",
        "\n",
        "plt.show()"
      ],
      "execution_count": 49,
      "outputs": [
        {
          "output_type": "display_data",
          "data": {
            "image/png": "[encoded data removed]",
            "text/plain": [
              "<Figure size 936x720 with 1 Axes>"
            ]
          },
          "metadata": {
            "tags": [],
            "needs_background": "light"
          }
        }
      ]
    },
    {
      "cell_type": "markdown",
      "metadata": {
        "id": "SwQ3kEp9WxK4"
      },
      "source": [
        "##Visualisation #3 : Plotly"
      ]
    },
    {
      "cell_type": "code",
      "metadata": {
        "id": "EcEOZRdSWz9_",
        "outputId": "41ad5d65-dbd6-48b2-d938-984a054a7a8d",
        "colab": {
          "base_uri": "https://localhost:8080/",
          "height": 542
        }
      },
      "source": [
        "fig = px.bar(df, x='Année', y='Surface forestière perdue (Mha)', color='Causes', color_discrete_map={\n",
        "                \"Agriculture itinérante\": \"brown\",\n",
        "                \"Culture des produits de base\": \"tan\",\n",
        "                \"Feu de forêt\": \"indianred\",\n",
        "                \"Inconnu\": \"orange\",\n",
        "                \"Sylviculture\": \"coral\",\n",
        "                \"Urbanisation\": \"black\"})\n",
        "\n",
        "fig.update_layout(\n",
        "    title=\"Causes de déforestation\",\n",
        "    title_x=0.5,\n",
        "    yaxis_title=\"Perte de surface forestière (hectare)\",\n",
        "    legend_orientation=\"h\",\n",
        "    font=dict(\n",
        "        family=\"Courier New, monospace\",\n",
        "        size=14,\n",
        "        color=\"black\"))\n",
        "\n",
        "for i in fig.data:\n",
        "  i.name = i.name.split('=')[1] \n",
        "\n",
        "fig.show()"
      ],
      "execution_count": 58,
      "outputs": [
        {
          "output_type": "display_data",
          "data": {
            "text/html": [
              "<html>\n",
              "<head><meta charset=\"utf-8\" /></head>\n",
              "<body>\n",
              "    <div>\n",
              "            <script src=\"https://cdnjs.cloudflare.com/ajax/libs/mathjax/2.7.5/MathJax.js?config=TeX-AMS-MML_SVG\"></script><script type=\"text/javascript\">if (window.MathJax) {MathJax.Hub.Config({SVG: {font: \"STIX-Web\"}});}</script>\n",
              "                <script type=\"text/javascript\">window.PlotlyConfig = {MathJaxConfig: 'local'};</script>\n",
              "        <script src=\"https://cdn.plot.ly/plotly-latest.min.js\"></script>    \n",
              "            <div id=\"328e63a7-9983-41d6-8f19-6e900f497244\" class=\"plotly-graph-div\" style=\"height:525px; width:100%;\"></div>\n",
              "            <script type=\"text/javascript\">\n",
              "                \n",
              "                    window.PLOTLYENV=window.PLOTLYENV || {};\n",
              "                    \n",
              "                if (document.getElementById(\"328e63a7-9983-41d6-8f19-6e900f497244\")) {\n",
              "                    Plotly.newPlot(\n",
              "                        '328e63a7-9983-41d6-8f19-6e900f497244',\n",
              "                        [{\"alignmentgroup\": \"True\", \"hoverlabel\": {\"namelength\": 0}, \"hovertemplate\": \"Causes=Agriculture itin\\u00e9rante<br>Ann\\u00e9e=%{x}<br>Surface foresti\\u00e8re perdue (Mha)=%{y}\", \"legendgroup\": \"Causes=Agriculture itin\\u00e9rante\", \"marker\": {\"color\": \"brown\"}, \"name\": \"Agriculture itin\\u00e9rante\", \"offsetgroup\": \"Causes=Agriculture itin\\u00e9rante\", \"orientation\": \"v\", \"showlegend\": true, \"textposition\": \"auto\", \"type\": \"bar\", \"x\": [2017, 2012, 2014, 2016, 2009, 2010, 2007, 2013, 2008, 2011, 2005, 2018, 2006, 2004, 2019, 2002, 2001, 2015, 2003], \"xaxis\": \"x\", \"y\": [7.96, 3.89, 5.88, 7.44, 3.7, 3.98, 3.37, 4.49, 3.31, 3.09, 3.08, 6.23, 2.93, 2.55, 5.74, 2.91, 2.78, 4.51, 2.21], \"yaxis\": \"y\"}, {\"alignmentgroup\": \"True\", \"hoverlabel\": {\"namelength\": 0}, \"hovertemplate\": \"Causes=Inconnu<br>Ann\\u00e9e=%{x}<br>Surface foresti\\u00e8re perdue (Mha)=%{y}\", \"legendgroup\": \"Causes=Inconnu\", \"marker\": {\"color\": \"orange\"}, \"name\": \"Inconnu\", \"offsetgroup\": \"Causes=Inconnu\", \"orientation\": \"v\", \"showlegend\": true, \"textposition\": \"auto\", \"type\": \"bar\", \"x\": [2012, 2009, 2010, 2008, 2007, 2014, 2004, 2011, 2006, 2005, 2001, 2013, 2002, 2017, 2003, 2016, 2019, 2018, 2015], \"xaxis\": \"x\", \"y\": [0.27, 0.18, 0.19, 0.17, 0.17, 0.17, 0.18, 0.17, 0.16, 0.15, 0.19, 0.18, 0.16, 0.16, 0.11, 0.15, 0.15, 0.13, 0.09], \"yaxis\": \"y\"}, {\"alignmentgroup\": \"True\", \"hoverlabel\": {\"namelength\": 0}, \"hovertemplate\": \"Causes=Culture des produits de base<br>Ann\\u00e9e=%{x}<br>Surface foresti\\u00e8re perdue (Mha)=%{y}\", \"legendgroup\": \"Causes=Culture des produits de base\", \"marker\": {\"color\": \"tan\"}, \"name\": \"Culture des produits de base\", \"offsetgroup\": \"Causes=Culture des produits de base\", \"orientation\": \"v\", \"showlegend\": true, \"textposition\": \"auto\", \"type\": \"bar\", \"x\": [2012, 2014, 2016, 2009, 2010, 2017, 2005, 2007, 2011, 2004, 2008, 2006, 2013, 2019, 2002, 2015, 2018, 2001, 2003], \"xaxis\": \"x\", \"y\": [6.45, 5.67, 8.45, 5.02, 5.19, 6.72, 5.13, 4.91, 4.91, 5.61, 4.86, 4.58, 4.05, 5.41, 4.3, 4.89, 4.99, 3.4, 3.95], \"yaxis\": \"y\"}, {\"alignmentgroup\": \"True\", \"hoverlabel\": {\"namelength\": 0}, \"hovertemplate\": \"Causes=Sylviculture<br>Ann\\u00e9e=%{x}<br>Surface foresti\\u00e8re perdue (Mha)=%{y}\", \"legendgroup\": \"Causes=Sylviculture\", \"marker\": {\"color\": \"coral\"}, \"name\": \"Sylviculture\", \"offsetgroup\": \"Causes=Sylviculture\", \"orientation\": \"v\", \"showlegend\": true, \"textposition\": \"auto\", \"type\": \"bar\", \"x\": [2012, 2009, 2008, 2007, 2010, 2004, 2006, 2014, 2005, 2017, 2016, 2011, 2002, 2001, 2013, 2019, 2018, 2003, 2015], \"xaxis\": \"x\", \"y\": [6.66, 5.45, 6.2, 6.27, 5.9, 6.3, 5.96, 6.1, 6.01, 7.91, 7.74, 5.84, 4.78, 4.63, 5.24, 7.14, 6.85, 4.23, 5.58], \"yaxis\": \"y\"}, {\"alignmentgroup\": \"True\", \"hoverlabel\": {\"namelength\": 0}, \"hovertemplate\": \"Causes=Feu de for\\u00eat<br>Ann\\u00e9e=%{x}<br>Surface foresti\\u00e8re perdue (Mha)=%{y}\", \"legendgroup\": \"Causes=Feu de for\\u00eat\", \"marker\": {\"color\": \"indianred\"}, \"name\": \"Feu de for\\u00eat\", \"offsetgroup\": \"Causes=Feu de for\\u00eat\", \"orientation\": \"v\", \"showlegend\": true, \"textposition\": \"auto\", \"type\": \"bar\", \"x\": [2012, 2008, 2010, 2007, 2004, 2009, 2006, 2013, 2011, 2014, 2005, 2017, 2001, 2002, 2016, 2003, 2018, 2019, 2015], \"xaxis\": \"x\", \"y\": [6.09, 3.88, 3.13, 3.46, 5.04, 2.5, 3.79, 6.55, 3.42, 5.75, 3.51, 6.38, 2.15, 4.14, 5.69, 3.83, 6.36, 5.56, 4.4], \"yaxis\": \"y\"}, {\"alignmentgroup\": \"True\", \"hoverlabel\": {\"namelength\": 0}, \"hovertemplate\": \"Causes=Urbanisation<br>Ann\\u00e9e=%{x}<br>Surface foresti\\u00e8re perdue (Mha)=%{y}\", \"legendgroup\": \"Causes=Urbanisation\", \"marker\": {\"color\": \"black\"}, \"name\": \"Urbanisation\", \"offsetgroup\": \"Causes=Urbanisation\", \"orientation\": \"v\", \"showlegend\": true, \"textposition\": \"auto\", \"type\": \"bar\", \"x\": [2012, 2017, 2009, 2010, 2006, 2004, 2007, 2008, 2014, 2016, 2005, 2011, 2001, 2002, 2013, 2018, 2003, 2019, 2015], \"xaxis\": \"x\", \"y\": [0.17, 0.24, 0.14, 0.17, 0.23, 0.22, 0.22, 0.19, 0.16, 0.2, 0.22, 0.15, 0.19, 0.17, 0.13, 0.19, 0.15, 0.17, 0.15], \"yaxis\": \"y\"}],\n",
              "                        {\"barmode\": \"relative\", \"font\": {\"color\": \"black\", \"family\": \"Courier New, monospace\", \"size\": 14}, \"legend\": {\"orientation\": \"h\", \"tracegroupgap\": 0}, \"margin\": {\"t\": 60}, \"template\": {\"data\": {\"bar\": [{\"error_x\": {\"color\": \"#2a3f5f\"}, \"error_y\": {\"color\": \"#2a3f5f\"}, \"marker\": {\"line\": {\"color\": \"#E5ECF6\", \"width\": 0.5}}, \"type\": \"bar\"}], \"barpolar\": [{\"marker\": {\"line\": {\"color\": \"#E5ECF6\", \"width\": 0.5}}, \"type\": \"barpolar\"}], \"carpet\": [{\"aaxis\": {\"endlinecolor\": \"#2a3f5f\", \"gridcolor\": \"white\", \"linecolor\": \"white\", \"minorgridcolor\": \"white\", \"startlinecolor\": \"#2a3f5f\"}, \"baxis\": {\"endlinecolor\": \"#2a3f5f\", \"gridcolor\": \"white\", \"linecolor\": \"white\", \"minorgridcolor\": \"white\", \"startlinecolor\": \"#2a3f5f\"}, \"type\": \"carpet\"}], \"choropleth\": [{\"colorbar\": {\"outlinewidth\": 0, \"ticks\": \"\"}, \"type\": \"choropleth\"}], \"contour\": [{\"colorbar\": {\"outlinewidth\": 0, \"ticks\": \"\"}, \"colorscale\": [[0.0, \"#0d0887\"], [0.1111111111111111, \"#46039f\"], [0.2222222222222222, \"#7201a8\"], [0.3333333333333333, \"#9c179e\"], [0.4444444444444444, \"#bd3786\"], [0.5555555555555556, \"#d8576b\"], [0.6666666666666666, \"#ed7953\"], [0.7777777777777778, \"#fb9f3a\"], [0.8888888888888888, \"#fdca26\"], [1.0, \"#f0f921\"]], \"type\": \"contour\"}], \"contourcarpet\": [{\"colorbar\": {\"outlinewidth\": 0, \"ticks\": \"\"}, \"type\": \"contourcarpet\"}], \"heatmap\": [{\"colorbar\": {\"outlinewidth\": 0, \"ticks\": \"\"}, \"colorscale\": [[0.0, \"#0d0887\"], [0.1111111111111111, \"#46039f\"], [0.2222222222222222, \"#7201a8\"], [0.3333333333333333, \"#9c179e\"], [0.4444444444444444, \"#bd3786\"], [0.5555555555555556, \"#d8576b\"], [0.6666666666666666, \"#ed7953\"], [0.7777777777777778, \"#fb9f3a\"], [0.8888888888888888, \"#fdca26\"], [1.0, \"#f0f921\"]], \"type\": \"heatmap\"}], \"heatmapgl\": [{\"colorbar\": {\"outlinewidth\": 0, \"ticks\": \"\"}, \"colorscale\": [[0.0, \"#0d0887\"], [0.1111111111111111, \"#46039f\"], [0.2222222222222222, \"#7201a8\"], [0.3333333333333333, \"#9c179e\"], [0.4444444444444444, \"#bd3786\"], [0.5555555555555556, \"#d8576b\"], [0.6666666666666666, \"#ed7953\"], [0.7777777777777778, \"#fb9f3a\"], [0.8888888888888888, \"#fdca26\"], [1.0, \"#f0f921\"]], \"type\": \"heatmapgl\"}], \"histogram\": [{\"marker\": {\"colorbar\": {\"outlinewidth\": 0, \"ticks\": \"\"}}, \"type\": \"histogram\"}], \"histogram2d\": [{\"colorbar\": {\"outlinewidth\": 0, \"ticks\": \"\"}, \"colorscale\": [[0.0, \"#0d0887\"], [0.1111111111111111, \"#46039f\"], [0.2222222222222222, \"#7201a8\"], [0.3333333333333333, \"#9c179e\"], [0.4444444444444444, \"#bd3786\"], [0.5555555555555556, \"#d8576b\"], [0.6666666666666666, \"#ed7953\"], [0.7777777777777778, \"#fb9f3a\"], [0.8888888888888888, \"#fdca26\"], [1.0, \"#f0f921\"]], \"type\": \"histogram2d\"}], \"histogram2dcontour\": [{\"colorbar\": {\"outlinewidth\": 0, \"ticks\": \"\"}, \"colorscale\": [[0.0, \"#0d0887\"], [0.1111111111111111, \"#46039f\"], [0.2222222222222222, \"#7201a8\"], [0.3333333333333333, \"#9c179e\"], [0.4444444444444444, \"#bd3786\"], [0.5555555555555556, \"#d8576b\"], [0.6666666666666666, \"#ed7953\"], [0.7777777777777778, \"#fb9f3a\"], [0.8888888888888888, \"#fdca26\"], [1.0, \"#f0f921\"]], \"type\": \"histogram2dcontour\"}], \"mesh3d\": [{\"colorbar\": {\"outlinewidth\": 0, \"ticks\": \"\"}, \"type\": \"mesh3d\"}], \"parcoords\": [{\"line\": {\"colorbar\": {\"outlinewidth\": 0, \"ticks\": \"\"}}, \"type\": \"parcoords\"}], \"pie\": [{\"automargin\": true, \"type\": \"pie\"}], \"scatter\": [{\"marker\": {\"colorbar\": {\"outlinewidth\": 0, \"ticks\": \"\"}}, \"type\": \"scatter\"}], \"scatter3d\": [{\"line\": {\"colorbar\": {\"outlinewidth\": 0, \"ticks\": \"\"}}, \"marker\": {\"colorbar\": {\"outlinewidth\": 0, \"ticks\": \"\"}}, \"type\": \"scatter3d\"}], \"scattercarpet\": [{\"marker\": {\"colorbar\": {\"outlinewidth\": 0, \"ticks\": \"\"}}, \"type\": \"scattercarpet\"}], \"scattergeo\": [{\"marker\": {\"colorbar\": {\"outlinewidth\": 0, \"ticks\": \"\"}}, \"type\": \"scattergeo\"}], \"scattergl\": [{\"marker\": {\"colorbar\": {\"outlinewidth\": 0, \"ticks\": \"\"}}, \"type\": \"scattergl\"}], \"scattermapbox\": [{\"marker\": {\"colorbar\": {\"outlinewidth\": 0, \"ticks\": \"\"}}, \"type\": \"scattermapbox\"}], \"scatterpolar\": [{\"marker\": {\"colorbar\": {\"outlinewidth\": 0, \"ticks\": \"\"}}, \"type\": \"scatterpolar\"}], \"scatterpolargl\": [{\"marker\": {\"colorbar\": {\"outlinewidth\": 0, \"ticks\": \"\"}}, \"type\": \"scatterpolargl\"}], \"scatterternary\": [{\"marker\": {\"colorbar\": {\"outlinewidth\": 0, \"ticks\": \"\"}}, \"type\": \"scatterternary\"}], \"surface\": [{\"colorbar\": {\"outlinewidth\": 0, \"ticks\": \"\"}, \"colorscale\": [[0.0, \"#0d0887\"], [0.1111111111111111, \"#46039f\"], [0.2222222222222222, \"#7201a8\"], [0.3333333333333333, \"#9c179e\"], [0.4444444444444444, \"#bd3786\"], [0.5555555555555556, \"#d8576b\"], [0.6666666666666666, \"#ed7953\"], [0.7777777777777778, \"#fb9f3a\"], [0.8888888888888888, \"#fdca26\"], [1.0, \"#f0f921\"]], \"type\": \"surface\"}], \"table\": [{\"cells\": {\"fill\": {\"color\": \"#EBF0F8\"}, \"line\": {\"color\": \"white\"}}, \"header\": {\"fill\": {\"color\": \"#C8D4E3\"}, \"line\": {\"color\": \"white\"}}, \"type\": \"table\"}]}, \"layout\": {\"annotationdefaults\": {\"arrowcolor\": \"#2a3f5f\", \"arrowhead\": 0, \"arrowwidth\": 1}, \"coloraxis\": {\"colorbar\": {\"outlinewidth\": 0, \"ticks\": \"\"}}, \"colorscale\": {\"diverging\": [[0, \"#8e0152\"], [0.1, \"#c51b7d\"], [0.2, \"#de77ae\"], [0.3, \"#f1b6da\"], [0.4, \"#fde0ef\"], [0.5, \"#f7f7f7\"], [0.6, \"#e6f5d0\"], [0.7, \"#b8e186\"], [0.8, \"#7fbc41\"], [0.9, \"#4d9221\"], [1, \"#276419\"]], \"sequential\": [[0.0, \"#0d0887\"], [0.1111111111111111, \"#46039f\"], [0.2222222222222222, \"#7201a8\"], [0.3333333333333333, \"#9c179e\"], [0.4444444444444444, \"#bd3786\"], [0.5555555555555556, \"#d8576b\"], [0.6666666666666666, \"#ed7953\"], [0.7777777777777778, \"#fb9f3a\"], [0.8888888888888888, \"#fdca26\"], [1.0, \"#f0f921\"]], \"sequentialminus\": [[0.0, \"#0d0887\"], [0.1111111111111111, \"#46039f\"], [0.2222222222222222, \"#7201a8\"], [0.3333333333333333, \"#9c179e\"], [0.4444444444444444, \"#bd3786\"], [0.5555555555555556, \"#d8576b\"], [0.6666666666666666, \"#ed7953\"], [0.7777777777777778, \"#fb9f3a\"], [0.8888888888888888, \"#fdca26\"], [1.0, \"#f0f921\"]]}, \"colorway\": [\"#636efa\", \"#EF553B\", \"#00cc96\", \"#ab63fa\", \"#FFA15A\", \"#19d3f3\", \"#FF6692\", \"#B6E880\", \"#FF97FF\", \"#FECB52\"], \"font\": {\"color\": \"#2a3f5f\"}, \"geo\": {\"bgcolor\": \"white\", \"lakecolor\": \"white\", \"landcolor\": \"#E5ECF6\", \"showlakes\": true, \"showland\": true, \"subunitcolor\": \"white\"}, \"hoverlabel\": {\"align\": \"left\"}, \"hovermode\": \"closest\", \"mapbox\": {\"style\": \"light\"}, \"paper_bgcolor\": \"white\", \"plot_bgcolor\": \"#E5ECF6\", \"polar\": {\"angularaxis\": {\"gridcolor\": \"white\", \"linecolor\": \"white\", \"ticks\": \"\"}, \"bgcolor\": \"#E5ECF6\", \"radialaxis\": {\"gridcolor\": \"white\", \"linecolor\": \"white\", \"ticks\": \"\"}}, \"scene\": {\"xaxis\": {\"backgroundcolor\": \"#E5ECF6\", \"gridcolor\": \"white\", \"gridwidth\": 2, \"linecolor\": \"white\", \"showbackground\": true, \"ticks\": \"\", \"zerolinecolor\": \"white\"}, \"yaxis\": {\"backgroundcolor\": \"#E5ECF6\", \"gridcolor\": \"white\", \"gridwidth\": 2, \"linecolor\": \"white\", \"showbackground\": true, \"ticks\": \"\", \"zerolinecolor\": \"white\"}, \"zaxis\": {\"backgroundcolor\": \"#E5ECF6\", \"gridcolor\": \"white\", \"gridwidth\": 2, \"linecolor\": \"white\", \"showbackground\": true, \"ticks\": \"\", \"zerolinecolor\": \"white\"}}, \"shapedefaults\": {\"line\": {\"color\": \"#2a3f5f\"}}, \"ternary\": {\"aaxis\": {\"gridcolor\": \"white\", \"linecolor\": \"white\", \"ticks\": \"\"}, \"baxis\": {\"gridcolor\": \"white\", \"linecolor\": \"white\", \"ticks\": \"\"}, \"bgcolor\": \"#E5ECF6\", \"caxis\": {\"gridcolor\": \"white\", \"linecolor\": \"white\", \"ticks\": \"\"}}, \"title\": {\"x\": 0.05}, \"xaxis\": {\"automargin\": true, \"gridcolor\": \"white\", \"linecolor\": \"white\", \"ticks\": \"\", \"title\": {\"standoff\": 15}, \"zerolinecolor\": \"white\", \"zerolinewidth\": 2}, \"yaxis\": {\"automargin\": true, \"gridcolor\": \"white\", \"linecolor\": \"white\", \"ticks\": \"\", \"title\": {\"standoff\": 15}, \"zerolinecolor\": \"white\", \"zerolinewidth\": 2}}}, \"title\": {\"text\": \"Causes de d\\u00e9forestation\", \"x\": 0.5}, \"xaxis\": {\"anchor\": \"y\", \"domain\": [0.0, 1.0], \"title\": {\"text\": \"Ann\\u00e9e\"}}, \"yaxis\": {\"anchor\": \"x\", \"domain\": [0.0, 1.0], \"title\": {\"text\": \"Perte de surface foresti\\u00e8re (hectare)\"}}},\n",
              "                        {\"responsive\": true}\n",
              "                    ).then(function(){\n",
              "                            \n",
              "var gd = document.getElementById('328e63a7-9983-41d6-8f19-6e900f497244');\n",
              "var x = new MutationObserver(function (mutations, observer) {{\n",
              "        var display = window.getComputedStyle(gd).display;\n",
              "        if (!display || display === 'none') {{\n",
              "            console.log([gd, 'removed!']);\n",
              "            Plotly.purge(gd);\n",
              "            observer.disconnect();\n",
              "        }}\n",
              "}});\n",
              "\n",
              "// Listen for the removal of the full notebook cells\n",
              "var notebookContainer = gd.closest('#notebook-container');\n",
              "if (notebookContainer) {{\n",
              "    x.observe(notebookContainer, {childList: true});\n",
              "}}\n",
              "\n",
              "// Listen for the clearing of the current output cell\n",
              "var outputEl = gd.closest('.output');\n",
              "if (outputEl) {{\n",
              "    x.observe(outputEl, {childList: true});\n",
              "}}\n",
              "\n",
              "                        })\n",
              "                };\n",
              "                \n",
              "            </script>\n",
              "        </div>\n",
              "</body>\n",
              "</html>"
            ]
          },
          "metadata": {
            "tags": []
          }
        }
      ]
    }
  ]
}